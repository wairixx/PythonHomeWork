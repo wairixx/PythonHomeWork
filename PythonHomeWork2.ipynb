{
 "cells": [
  {
   "cell_type": "code",
   "execution_count": 23,
   "id": "75c39387-a26c-4cdb-a41e-0c3a1ad1f42f",
   "metadata": {},
   "outputs": [
    {
     "data": {
      "text/plain": [
       "{'просто': 2, 'приклад': 1, 'тексту': 1, 'має': 1, 'нормалізованим': 1}"
      ]
     },
     "execution_count": 23,
     "metadata": {},
     "output_type": "execute_result"
    }
   ],
   "source": [
    "def split_string():\n",
    "    string = \"Це просто приклад Тексту, який має бути просто Нормалізованим!\"\n",
    "    string_arr = []\n",
    "    string_arr = string.replace(',',\"\").strip(\"!\").lower().split()\n",
    "    stop_words = [\"і\", \"а\", \"у\", \"з\", \"до\", \"це\", \"який\", \"бути\"]\n",
    "    for str in string_arr:\n",
    "        for word in stop_words:\n",
    "            if(str == word):\n",
    "                string_arr.remove(str)\n",
    "    return(string_arr)\n",
    "\n",
    "def count_words(arr):\n",
    "    nums = dict();\n",
    "    for word in arr:\n",
    "        if word in nums:\n",
    "            nums[word] +=1\n",
    "        else:\n",
    "            nums[word] =1\n",
    "    return nums;\n",
    "\n",
    "array = split_string()\n",
    "count_words(array)\n",
    "        "
   ]
  },
  {
   "cell_type": "code",
   "execution_count": null,
   "id": "aa01c418-229b-4fb3-a5f1-1c6776330c54",
   "metadata": {},
   "outputs": [],
   "source": []
  }
 ],
 "metadata": {
  "kernelspec": {
   "display_name": "Python 3 (ipykernel)",
   "language": "python",
   "name": "python3"
  },
  "language_info": {
   "codemirror_mode": {
    "name": "ipython",
    "version": 3
   },
   "file_extension": ".py",
   "mimetype": "text/x-python",
   "name": "python",
   "nbconvert_exporter": "python",
   "pygments_lexer": "ipython3",
   "version": "3.11.5"
  }
 },
 "nbformat": 4,
 "nbformat_minor": 5
}
