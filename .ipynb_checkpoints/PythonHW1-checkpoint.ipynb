{
 "cells": [
  {
   "cell_type": "code",
   "execution_count": 2,
   "id": "2bd61cd4-04a2-4d2d-ba5c-6b7a79c96ff4",
   "metadata": {
    "scrolled": true
   },
   "outputs": [
    {
     "name": "stdout",
     "output_type": "stream",
     "text": [
      "False\n",
      "True\n",
      "False\n",
      "True\n",
      "False\n",
      "True\n",
      "False\n",
      "True\n",
      "False\n"
     ]
    }
   ],
   "source": [
    "class User:\n",
    "  def __init__(self, VPN, transaction_type, transaction_sum, transaction_per_hour, cheater ):\n",
    "    self.VPN = VPN\n",
    "    self.transaction_type = transaction_type\n",
    "    self.transaction_sum = transaction_sum  \n",
    "    self.transaction_per_hour = transaction_per_hour\n",
    "    self.cheater = cheater\n",
    "      \n",
    "  def get_VPN(self):\n",
    "      return self.VPN\n",
    "  def get_transaction_type(self):\n",
    "      return self.transaction_type\n",
    "  def get_transaction_sum(self):\n",
    "      return self.transaction_sum\n",
    "  def get_transaction_per_hour(self):\n",
    "      return self.transaction_per_hour\n",
    "\n",
    "users = [User(False, 'A', 100.5, 1, False),\n",
    "         User(True, 'B', 1000.0, 5, True),\n",
    "         User(False, 'C', 50, 2, False),\n",
    "         User(True, 'D', 1200.0, 10, True),\n",
    "         User(False, 'A', 150.0, 1, False),\n",
    "         User(True, 'B', 750.0, 4, True),\n",
    "         User(False, 'C', 80, 3, False),\n",
    "         User(True, 'D', 900.0, 8, True),\n",
    "         User(False, 'B', 200.0, 2, False),\n",
    "        ]\n",
    "\n",
    "def is_cheater(user):\n",
    "    if (not user.get_VPN() and user.get_transaction_sum() <= 600.0 and user.get_transaction_per_hour() <= 6):\n",
    "        return False\n",
    "    else:\n",
    "        return True\n",
    "\n",
    "lenght = len(users)\n",
    "num = 0\n",
    "while num <= lenght -1:\n",
    "    user: User = users[num]\n",
    "    print(is_cheater(user))\n",
    "    num += 1\n"
   ]
  }
 ],
 "metadata": {
  "kernelspec": {
   "display_name": "Python 3 (ipykernel)",
   "language": "python",
   "name": "python3"
  },
  "language_info": {
   "codemirror_mode": {
    "name": "ipython",
    "version": 3
   },
   "file_extension": ".py",
   "mimetype": "text/x-python",
   "name": "python",
   "nbconvert_exporter": "python",
   "pygments_lexer": "ipython3",
   "version": "3.11.5"
  }
 },
 "nbformat": 4,
 "nbformat_minor": 5
}
